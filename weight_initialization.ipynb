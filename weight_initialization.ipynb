{
 "cells": [
  {
   "cell_type": "markdown",
   "metadata": {},
   "source": [
    "# Weight Initialization"
   ]
  },
  {
   "cell_type": "markdown",
   "metadata": {},
   "source": [
    "In this notebook, we experiment with weight initialization approaches to examine their impact on layer outputs."
   ]
  },
  {
   "cell_type": "markdown",
   "metadata": {},
   "source": [
    "[![Open In Colab](https://colab.research.google.com/assets/colab-badge.svg)](https://colab.research.google.com/github/the-deep-learners/deep-learning-illustrated/blob/master/notebooks/weight_initialization.ipynb)"
   ]
  },
  {
   "cell_type": "markdown",
   "metadata": {},
   "source": [
    "#### Load dependencies"
   ]
  },
  {
   "cell_type": "code",
   "execution_count": 1,
   "metadata": {},
   "outputs": [
    {
     "name": "stderr",
     "output_type": "stream",
     "text": [
      "Using TensorFlow backend.\n"
     ]
    }
   ],
   "source": [
    "import numpy as np\n",
    "import matplotlib.pyplot as plt\n",
    "\n",
    "from keras import Sequential\n",
    "from keras.layers import Dense, Activation\n",
    "from keras.initializers import Zeros, RandomNormal, glorot_normal, glorot_uniform"
   ]
  },
  {
   "cell_type": "markdown",
   "metadata": {},
   "source": [
    "#### Set number of neurons"
   ]
  },
  {
   "cell_type": "code",
   "execution_count": 2,
   "metadata": {},
   "outputs": [],
   "source": [
    "n_input = 784\n",
    "n_dense = 256"
   ]
  },
  {
   "cell_type": "markdown",
   "metadata": {},
   "source": [
    "#### Select a bias initializer"
   ]
  },
  {
   "cell_type": "code",
   "execution_count": 3,
   "metadata": {},
   "outputs": [],
   "source": [
    "b_init = Zeros()"
   ]
  },
  {
   "cell_type": "markdown",
   "metadata": {},
   "source": [
    "#### Select a weight initializer"
   ]
  },
  {
   "cell_type": "code",
   "execution_count": 4,
   "metadata": {},
   "outputs": [],
   "source": [
    "w_init = RandomNormal(stddev=1.0)\n",
    "# w_init = glorot_normal()\n",
    "# w_init = glorot_uniform()"
   ]
  },
  {
   "cell_type": "markdown",
   "metadata": {},
   "source": [
    "#### Design neural network architecture"
   ]
  },
  {
   "cell_type": "code",
   "execution_count": 5,
   "metadata": {},
   "outputs": [],
   "source": [
    "model = Sequential()\n",
    "model.add(Dense(n_dense, \n",
    "                input_dim=n_input,\n",
    "                kernel_initializer=w_init,\n",
    "                bias_initializer=b_init))\n",
    "model.add(Activation('sigmoid'))\n",
    "# model.add(Activation('tanh'))\n",
    "# model.add(Activation('relu'))"
   ]
  },
  {
   "cell_type": "markdown",
   "metadata": {},
   "source": [
    "#### Generate random *x* values"
   ]
  },
  {
   "cell_type": "code",
   "execution_count": 6,
   "metadata": {},
   "outputs": [],
   "source": [
    "x = np.random.random((1,n_input))"
   ]
  },
  {
   "cell_type": "markdown",
   "metadata": {},
   "source": [
    "#### Forward propagate through the network"
   ]
  },
  {
   "cell_type": "code",
   "execution_count": 7,
   "metadata": {},
   "outputs": [],
   "source": [
    "a = model.predict(x)"
   ]
  },
  {
   "cell_type": "code",
   "execution_count": 8,
   "metadata": {},
   "outputs": [
    {
     "data": {
      "text/plain": [
       "array([[1.0000000e+00, 5.5238861e-01, 4.6392031e-02, 9.9999976e-01,\n",
       "        1.0000000e+00, 1.4952397e-15, 4.9232862e-09, 1.7406979e-03,\n",
       "        9.9521768e-01, 9.9945706e-01, 1.0000000e+00, 1.4572564e-05,\n",
       "        9.9998462e-01, 9.2851160e-06, 5.8953427e-03, 1.0000000e+00,\n",
       "        1.2721360e-04, 9.9994528e-01, 9.9999118e-01, 1.5221970e-07,\n",
       "        1.0000000e+00, 2.6629050e-03, 9.6867204e-01, 1.0450470e-04,\n",
       "        9.9999988e-01, 1.0000000e+00, 1.0000000e+00, 4.4611039e-05,\n",
       "        1.0000000e+00, 9.9023002e-01, 9.9999630e-01, 3.5799325e-01,\n",
       "        9.8717526e-02, 9.9943811e-01, 2.1561574e-02, 1.0000000e+00,\n",
       "        1.0000000e+00, 1.0000000e+00, 9.9432194e-01, 9.9999595e-01,\n",
       "        9.9999988e-01, 6.7618352e-01, 8.8485974e-09, 9.9743015e-01,\n",
       "        9.3088049e-01, 4.0154563e-17, 9.9763846e-01, 2.8106602e-05,\n",
       "        1.0000000e+00, 2.9807379e-03, 1.0000000e+00, 9.2889160e-01,\n",
       "        6.6522352e-04, 1.0000000e+00, 6.3692471e-03, 1.0000000e+00,\n",
       "        3.6966151e-01, 4.0858957e-01, 2.0483537e-09, 9.2950016e-01,\n",
       "        9.9942172e-01, 8.2856990e-05, 1.8322708e-02, 9.9996555e-01,\n",
       "        1.0000000e+00, 9.8420717e-02, 1.8614588e-02, 9.9999988e-01,\n",
       "        2.2018812e-08, 9.7701776e-01, 7.5913566e-18, 9.9978286e-01,\n",
       "        1.0000000e+00, 7.5348601e-04, 1.0000000e+00, 1.2363359e-12,\n",
       "        6.0235611e-06, 4.7180316e-01, 1.8529829e-02, 1.0000000e+00,\n",
       "        9.9999964e-01, 1.0000000e+00, 3.9451379e-08, 2.0269521e-03,\n",
       "        9.9996245e-01, 3.3361158e-07, 9.9827659e-01, 9.9943238e-01,\n",
       "        8.7561755e-05, 2.2633072e-02, 7.2024915e-05, 5.6847539e-14,\n",
       "        9.9705923e-01, 1.6852890e-05, 1.5257297e-04, 1.0000000e+00,\n",
       "        2.7194526e-02, 1.0000000e+00, 2.7174382e-03, 8.1971739e-06,\n",
       "        2.0326218e-06, 1.0000000e+00, 9.9998903e-01, 1.9575008e-04,\n",
       "        1.0000000e+00, 4.7186326e-12, 9.9991298e-01, 9.9933225e-01,\n",
       "        8.4125223e-10, 2.7218473e-03, 6.6422473e-10, 2.5780533e-08,\n",
       "        9.8619580e-01, 1.0000000e+00, 4.1681342e-04, 9.8714381e-01,\n",
       "        1.2834491e-01, 2.8034039e-02, 2.1145610e-09, 9.5706326e-01,\n",
       "        7.3693615e-01, 1.9472601e-16, 1.0000000e+00, 9.9999928e-01,\n",
       "        1.4348045e-02, 7.9118448e-01, 1.0000000e+00, 4.9731020e-02,\n",
       "        5.0149702e-05, 9.9999511e-01, 2.2711025e-10, 9.9990797e-01,\n",
       "        9.3409210e-07, 6.1674172e-01, 3.4679439e-02, 4.2722717e-01,\n",
       "        9.9988282e-01, 3.2072565e-09, 3.8438510e-13, 1.0000000e+00,\n",
       "        4.3462841e-03, 1.0000000e+00, 1.0000000e+00, 4.4942368e-02,\n",
       "        9.9992895e-01, 1.0000000e+00, 1.0538031e-03, 4.4817843e-05,\n",
       "        2.4430894e-03, 1.0000000e+00, 3.3600496e-03, 9.9820447e-01,\n",
       "        9.9999702e-01, 1.0000000e+00, 1.3019590e-01, 1.0492328e-08,\n",
       "        9.7731556e-09, 1.2109972e-08, 9.4733261e-02, 7.7213299e-05,\n",
       "        9.9796945e-01, 2.0845806e-07, 6.5383670e-06, 1.0000000e+00,\n",
       "        9.9985802e-01, 1.0000000e+00, 1.0000000e+00, 1.0000000e+00,\n",
       "        7.2833377e-01, 6.7128653e-06, 1.0000000e+00, 9.9967039e-01,\n",
       "        9.9999976e-01, 9.9307090e-01, 9.9841213e-01, 1.8684148e-05,\n",
       "        9.1203479e-03, 1.0000000e+00, 1.0000000e+00, 2.6149540e-15,\n",
       "        9.9814701e-01, 1.0000000e+00, 9.9836522e-01, 9.9999952e-01,\n",
       "        1.6699494e-04, 9.9999094e-01, 4.1960811e-06, 1.0000000e+00,\n",
       "        2.2257270e-06, 9.9976629e-01, 5.0926348e-03, 9.4292140e-01,\n",
       "        4.0563256e-03, 9.9999344e-01, 9.9880111e-01, 1.0000000e+00,\n",
       "        9.9985719e-01, 1.0000000e+00, 1.0000000e+00, 3.4722641e-10,\n",
       "        7.3154521e-01, 2.2050151e-07, 9.9904209e-01, 7.1207082e-01,\n",
       "        9.9961627e-01, 1.4136040e-10, 9.9999905e-01, 1.0000000e+00,\n",
       "        1.0000000e+00, 2.9351779e-09, 1.4806803e-05, 9.9813843e-01,\n",
       "        2.7165061e-01, 2.9061463e-01, 3.0322719e-01, 4.5177204e-14,\n",
       "        2.2284472e-09, 9.9999976e-01, 2.0912129e-02, 6.4872201e-09,\n",
       "        1.9869606e-10, 9.9999988e-01, 1.3954538e-07, 9.9999976e-01,\n",
       "        1.0000000e+00, 1.0000000e+00, 2.4544438e-03, 1.0000000e+00,\n",
       "        9.9918777e-01, 1.0000000e+00, 1.8381689e-02, 9.9999869e-01,\n",
       "        1.0000000e+00, 4.1949230e-01, 1.9061002e-03, 9.8764656e-07,\n",
       "        9.9145448e-01, 1.0000000e+00, 3.7591720e-01, 9.9999976e-01,\n",
       "        2.2123617e-04, 9.9999976e-01, 2.5395424e-15, 7.6833153e-01,\n",
       "        5.2820357e-09, 1.0000000e+00, 9.9999964e-01, 2.5045188e-11,\n",
       "        9.9991953e-01, 5.6525227e-02, 9.9491727e-01, 1.0000000e+00,\n",
       "        9.0830754e-03, 1.2347847e-07, 2.2087467e-11, 3.1971696e-11]],\n",
       "      dtype=float32)"
      ]
     },
     "execution_count": 8,
     "metadata": {},
     "output_type": "execute_result"
    }
   ],
   "source": [
    "a"
   ]
  },
  {
   "cell_type": "code",
   "execution_count": 9,
   "metadata": {},
   "outputs": [
    {
     "data": {
      "image/png": "[encoded data removed]",
      "text/plain": [
       "<matplotlib.figure.Figure at 0x7f257c325b00>"
      ]
     },
     "metadata": {},
     "output_type": "display_data"
    }
   ],
   "source": [
    "_ = plt.hist(np.transpose(a))"
   ]
  },
  {
   "cell_type": "code",
   "execution_count": null,
   "metadata": {},
   "outputs": [],
   "source": []
  }
 ],
 "metadata": {
  "kernelspec": {
   "display_name": "Python 3",
   "language": "python",
   "name": "python3"
  },
  "language_info": {
   "codemirror_mode": {
    "name": "ipython",
    "version": 3
   },
   "file_extension": ".py",
   "mimetype": "text/x-python",
   "name": "python",
   "nbconvert_exporter": "python",
   "pygments_lexer": "ipython3",
   "version": "3.6.5"
  }
 },
 "nbformat": 4,
 "nbformat_minor": 2
}
